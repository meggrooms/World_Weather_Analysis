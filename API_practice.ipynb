{
 "cells": [
  {
   "cell_type": "code",
   "execution_count": 1,
   "id": "b8c17f72",
   "metadata": {},
   "outputs": [],
   "source": [
    "# Create a practice set of random latitude and longitude combinations.\n",
    "lats = [25.12903645, 25.92017388, 26.62509167, -59.98969384, 37.30571269]\n",
    "lngs = [-67.59741259, 11.09532135, 74.84233102, -76.89176677, -61.13376282]\n",
    "lat_lngs = zip(lats, lngs)\n",
    "\n",
    "# Add the latitudes and longitudes to a list.\n",
    "coordinates = list(lat_lngs)"
   ]
  },
  {
   "cell_type": "code",
   "execution_count": 2,
   "id": "55b49637",
   "metadata": {},
   "outputs": [
    {
     "name": "stdout",
     "output_type": "stream",
     "text": [
      "25.12903645 -67.59741259\n",
      "25.92017388 11.09532135\n",
      "26.62509167 74.84233102\n",
      "-59.98969384 -76.89176677\n",
      "37.30571269 -61.13376282\n"
     ]
    }
   ],
   "source": [
    "# Use the print() function to display the latitude and longitude combinations.\n",
    "for coordinate in coordinates:\n",
    "    print(coordinate[0], coordinate[1])\n"
   ]
  },
  {
   "cell_type": "markdown",
   "id": "aa5f2d18",
   "metadata": {},
   "source": [
    " "
   ]
  },
  {
   "cell_type": "code",
   "execution_count": 3,
   "id": "d7365895",
   "metadata": {},
   "outputs": [],
   "source": [
    "# 6.1.5"
   ]
  },
  {
   "cell_type": "code",
   "execution_count": 4,
   "id": "b131e3a4",
   "metadata": {},
   "outputs": [],
   "source": [
    "# Use the citipy module to determine city based on latitude and longitude.\n",
    "from citipy import citipy"
   ]
  },
  {
   "cell_type": "code",
   "execution_count": null,
   "id": "8e65e8ad",
   "metadata": {},
   "outputs": [],
   "source": []
  },
  {
   "cell_type": "code",
   "execution_count": 5,
   "id": "78c8f01b",
   "metadata": {},
   "outputs": [
    {
     "name": "stdout",
     "output_type": "stream",
     "text": [
      "cockburn town tc\n",
      "gat ly\n",
      "parvatsar in\n",
      "punta arenas cl\n",
      "saint george bm\n"
     ]
    }
   ],
   "source": [
    " # Use the print() function to display the latitude and longitude combinations.\n",
    "for coordinate in coordinates:\n",
    "    print(citipy.nearest_city(coordinate[0], coordinate[1]).city_name,\n",
    "          citipy.nearest_city(coordinate[0], coordinate[1]).country_code)\n",
    "\n"
   ]
  },
  {
   "cell_type": "code",
   "execution_count": 6,
   "id": "e0f7f2c1",
   "metadata": {},
   "outputs": [],
   "source": [
    "# 6.1.5"
   ]
  },
  {
   "cell_type": "code",
   "execution_count": 7,
   "id": "f0fae39a",
   "metadata": {},
   "outputs": [],
   "source": [
    "from citipy import citipy\n",
    "import numpy as np"
   ]
  },
  {
   "cell_type": "code",
   "execution_count": 8,
   "id": "409c2fd8",
   "metadata": {},
   "outputs": [],
   "source": [
    "lat = np.random.uniform(-90, 90, size = 1500)\n",
    "lngs = np.random.uniform(-180, 180, size = 1500)\n",
    "lat_lngs = zip(lat, lngs)\n",
    "\n",
    "coordinates = list(lat_lngs)"
   ]
  },
  {
   "cell_type": "code",
   "execution_count": 9,
   "id": "3daba0f1",
   "metadata": {},
   "outputs": [
    {
     "data": {
      "text/plain": [
       "628"
      ]
     },
     "execution_count": 9,
     "metadata": {},
     "output_type": "execute_result"
    }
   ],
   "source": [
    "# Create a list for holding the cities.\n",
    "cities = []\n",
    "# Identify the nearest city for each latitude and longitude combination.\n",
    "for coordinate in coordinates:\n",
    "    city = citipy.nearest_city(coordinate[0], coordinate[1]).city_name\n",
    "\n",
    "    # If the city is unique, then we will add it to the cities list.\n",
    "    if city not in cities:\n",
    "        cities.append(city)\n",
    "    \n",
    "\n",
    "# Print the city count to confirm sufficient count.\n",
    "len(cities)\n"
   ]
  },
  {
   "cell_type": "code",
   "execution_count": 10,
   "id": "1f974bfa",
   "metadata": {},
   "outputs": [
    {
     "name": "stdout",
     "output_type": "stream",
     "text": [
      "['dien bien', 'kihei', 'taolanaro', 'punta arenas', 'tilichiki', 'lons-le-saunier', 'ushuaia', 'arraial do cabo', 'puerto ayora', 'nizhneyansk', 'tuy hoa', 'nanortalik', 'tuktoyaktuk', 'rikitea', 'neryungri', 'butaritari', 'coquimbo', 'hilo', 'makakilo city', 'rudnogorsk', 'kanniyakumari', 'mar del plata', 'jamestown', 'puri', 'nitra', 'port alfred', 'new norfolk', 'avarua', 'carnarvon', 'atuona', 'hamilton', 'krylovskaya', 'mys shmidta', 'balkhash', 'geraldton', 'tsihombe', 'saint-philippe', 'vaini', 'castro', 'sentyabrskiy', 'kodiak', 'ponta do sol', 'rio grande', 'menongue', 'san luis', 'yellowknife', 'mamallapuram', 'boguchany', 'aksu', 'rawalpindi', 'antalaha', 'kahului', 'hermanus', 'lisakovsk', 'klaksvik', 'komsomolskiy', 'novaya igirma', 'ponta delgada', 'busselton', 'vaitupu', 'vestmannaeyjar', 'orsha', 'meulaboh', 'jiblah', 'mount gambier', 'airai', 'esmeraldas', 'matagami', 'thompson', 'cape town', 'lakes entrance', 'roald', 'georgetown', 'cidreira', 'guerrero negro', 'bredasdorp', 'pevek', 'mataura', 'andenes', 'qaanaaq', 'imeni poliny osipenko', 'yuzhno-yeniseyskiy', 'osuna', 'kapaa', 'shimoda', 'iqaluit', 'illoqqortoormiut', 'burica', 'shache', 'albany', 'lavrentiya', 'longyearbyen', 'beyneu', 'lebu', 'lompoc', 'yamada', 'new glasgow', 'bolshoye sorokino', 'port elizabeth', 'port blair', 'miranorte', 'pareora', 'jalu', 'khatanga', 'ust-kamchatsk', 'sitka', 'jiddah', 'orahovac', 'prince rupert', 'moranbah', 'riverton', 'bereda', 'karratha', 'baruun-urt', 'saint-joseph', 'namibe', 'barrow', 'krasnoselkup', 'zhigalovo', 'chau doc', 'belushya guba', 'sulingen', 'bluff', 'sola', 'dicabisagan', 'savyntsi', 'puerto escondido', 'esna', 'kaitangata', 'lagunas', 'skagastrond', 'bengkulu', 'mahebourg', 'saraland', 'kimbe', 'anadyr', 'san cristobal', 'ust-nera', 'winslow', 'vengerovo', 'titisee-neustadt', 'kilindoni', 'oktyabrskoye', 'ribeira grande', 'kumluca', 'miles city', 'bull savanna', 'beringovskiy', 'fereydun kenar', 'vavoua', 'roma', 'chuy', 'kapit', 'mandalgovi', 'kisangani', 'guadalupe victoria', 'balad', 'general pico', 'vilhena', 'severo-kurilsk', 'nouakchott', 'eyl', 'grand river south east', 'saint-augustin', 'artyk', 'rio gallegos', 'medina', 'balykshi', 'goshogawara', 'husavik', 'meyungs', 'upernavik', 'salalah', 'cascais', 'sitrah', 'coahuayana', 'santiago del estero', 'avera', 'cherskiy', 'hobart', 'esperance', 'apatity', 'riaba', 'katsuura', 'nizhnevartovsk', 'hasaki', 'east london', 'aliwal north', 'nhulunbuy', 'itarema', 'srednekolymsk', 'dudinka', 'tiksi', 'kysyl-syr', 'gornopravdinsk', 'batagay-alyta', 'pangnirtung', 'crateus', 'ojinaga', 'amderma', 'koshurnikovo', 'kavieng', 'tazovskiy', 'sao felix do xingu', 'pecos', 'puerto penasco', 'vila franca do campo', 'codrington', 'ambilobe', 'corvallis', 'tautira', 'richards bay', 'hamada', 'aklavik', 'cruzilia', 'saskylakh', 'provideniya', 'yumen', 'diu', 'nelson bay', 'belsand', 'palabuhanratu', 'torbay', 'maningrida', 'bethel', 'bethanien', 'stillwater', 'vokhma', 'champerico', 'clyde river', 'namangan', 'erzin', 'barentsburg', 'luderitz', 'kununurra', 'narsaq', 'praya', 'bargal', 'ostrovnoy', 'sorokino', 'solnechnyy', 'calabozo', 'chengdu', 'viedma', 'cotonou', 'port hardy', 'pushchino', 'sao joao da barra', 'marcona', 'campana', 'zyryanka', 'saint george', 'ola', 'katangli', 'salekhard', 'mehamn', 'hithadhoo', 'tasiilaq', 'barcelos', 'fuyang', 'jos', 'abu dhabi', 'leningradskiy', 'khash', 'samarai', 'saint-francois', 'cabo san lucas', 'seminole', 'mansa', 'siemiatycze', 'volkhov', 'souillac', 'bambous virieux', 'mastic beach', 'meiganga', 'mirador', 'labuhan', 'mittagong', 'sabha', 'zapolyarnyy', 'charters towers', 'saldanha', 'porosozero', 'shingu', 'spring valley', 'warqla', 'huanren', 'chokurdakh', 'north bend', 'moyobamba', 'lorengau', 'notre-dame-du-lac', 'kazachinskoye', 'anamur', 'te anau', 'araouane', 'narrabri', 'novokayakent', 'lagoa', 'san policarpo', 'varzelandia', 'kutum', 'victoria', 'trabzon', 'barreiras', 'da nang', 'kavaratti', 'muisne', 'atasu', 'saleaula', 'batouri', 'la ronge', 'huarmey', 'bardiyah', 'taree', 'nanakuli', 'kosino', 'bethalto', 'santa maria', 'south lake tahoe', 'teya', 'colorado springs', 'todos santos', 'strezhevoy', 'altamira', 'queimadas', 'le port', 'qui nhon', 'oistins', 'cayenne', 'leesburg', 'iranshahr', 'buala', 'dikson', 'sidney', 'aksarka', 'koygorodok', 'cape canaveral', 'athabasca', 'nikolskoye', 'wanning', 'ozgon', 'jayanca', 'pochutla', 'altay', 'angren', 'piacabucu', 'moengo', 'boa vista', 'winnemucca', 'sidi ali', 'nuuk', 'tutoia', 'umzimvubu', 'pokhvistnevo', 'dubna', 'baijiantan', 'vila velha', 'belyy yar', 'udachnyy', 'pisco', 'dryden', 'tumannyy', 'faanui', 'miri', 'ahipara', 'yarim', 'fayaoue', 'bhadrachalam', 'grand forks', 'betare oya', 'dimitrovgrad', 'berbera', 'sile', 'ye', 'niono', 'iskateley', 'xingcheng', 'kenai', 'columbus', 'kupang', 'cooma', 'sisimiut', 'pop', 'ilulissat', 'tabou', 'mercedes', 'trindade', 'ndola', 'medford', 'nakano', 'methven', 'charlestown', 'palana', 'teotlalcingo', 'anchorage', 'podor', 'yatou', 'asau', 'pathein', 'kulhudhuffushi', 'foam lake', 'johnstown', 'brae', 'longlac', 'nizwa', 'flin flon', 'qasigiannguit', 'faya', 'beira', 'tual', 'nenjiang', 'mitsamiouli', 'parabel', 'adrar', 'maloshuyka', 'shelburne', 'nampa', 'puerto madero', 'banes', 'neuquen', 'maniitsoq', 'horta', 'bikramganj', 'dong hoi', 'long', 'thinadhoo', 'paradwip', 'vostok', 'asosa', 'banda aceh', 'maun', 'pingliang', 'baykit', 'ludwigslust', 'constitucion', 'dinard', 'praia da vitoria', 'puerto del rosario', 'matara', 'bichura', 'vao', 'abapo', 'rock sound', 'portland', 'kawalu', 'kiunga', 'yerofey pavlovich', 'yuncheng', 'aflu', 'loandjili', 'yangjiang', 'omsukchan', 'karaul', 'yantal', 'pasni', 'saint-louis', 'zhezkazgan', 'bilibino', 'sur', 'zhangye', 'labutta', 'vieste', 'darab', 'vetralla', 'fort-shevchenko', 'kommunar', 'gombe', 'kruisfontein', 'ulagan', 'espanola', 'san patricio', 'fairbanks', 'los banos', 'magadan', 'inhambane', 'vaitape', 'comodoro rivadavia', 'riyadh', 'ancud', 'mglin', 'cavite', 'kenitra', 'barbar', 'kichera', 'chagda', 'nosy varika', 'necochea', 'nizhneangarsk', 'ust-kuyga', 'zhangjiakou', 'melita', 'bundaberg', 'ust-ilimsk', 'spiridonovka', 'san quintin', 'new richmond', 'tuatapere', 'bur gabo', 'samusu', 'muros', 'port-gentil', 'nueva guinea', 'malakal', 'harur', 'qaqortoq', 'alice springs', 'miraflores', 'chalmette', 'tongren', 'isangel', 'talnakh', 'kloulklubed', 'okahandja', 'mrirt', 'aswan', 'waddan', 'floro', 'ayorou', 'piracanjuba', 'alamosa', 'tucuman', 'safaga', 'praia', 'koboldo', 'saryshagan', 'jumla', 'adre', 'fukue', 'clarksburg', 'olivet', 'peterhead', 'port lincoln', 'yar-sale', 'uruguaiana', 'maryborough', 'sulangan', 'bogorodskoye', 'flinders', 'gazanjyk', 'skibbereen', 'norman wells', 'zionsville', 'rungata', 'gavle', 'hofn', 'masterton', 'vieques', 'axim', 'daru', 'vardo', 'khonsa', 'kargopol', 'buraydah', 'mubi', 'tadine', 'baghdad', 'henties bay', 'impfondo', 'acajutla', 'jinxiang', 'ginir', 'oussouye', 'santa cruz', 'ruston', 'aneho', 'uramita', 'margate', 'jackson', 'cullinan', 'korla', 'la tuque', 'melfi', 'college', 'kaman', 'syamzha', 'zhurivka', 'mangrol', 'grand gaube', 'deputatskiy', 'mahaicony', 'taoudenni', 'morgan city', 'ternate', 'grand-santi', 'mbandaka', 'dunedin', 'belaya gora', 'hazorasp', 'quatre cocos', 'almeirim', 'caravelas', 'bilma', 'karasburg', 'havre-saint-pierre', 'aden', 'fort nelson', 'constantine', 'pasighat', 'tessalit', 'presidente olegario', 'najran', 'khobi', 'sumbawa', 'polyarnyy', 'ankang', 'berlevag', 'maralal', 'arshan', 'cloquet', 'zhuanghe', 'nova russas', 'plettenberg bay', 'kalevala', 'hudson bay', 'okato', 'turukhansk', 'padang', 'formoso do araguaia', 'nauta', 'jizan', 'los llanos de aridane', 'hihifo', 'dingle', 'sorvag', 'dolbeau', 'lososina', 'akbarpur']\n"
     ]
    }
   ],
   "source": [
    "print(cities)"
   ]
  },
  {
   "cell_type": "code",
   "execution_count": 11,
   "id": "bd24553d",
   "metadata": {},
   "outputs": [],
   "source": [
    "# Import the requests library.\n",
    "import requests\n",
    "\n",
    "# Import the API key.\n",
    "from config import weather_api_key"
   ]
  },
  {
   "cell_type": "code",
   "execution_count": null,
   "id": "4ad8d718",
   "metadata": {},
   "outputs": [],
   "source": []
  },
  {
   "cell_type": "code",
   "execution_count": 12,
   "id": "8773a04d",
   "metadata": {},
   "outputs": [],
   "source": [
    "# 6.2.4"
   ]
  },
  {
   "cell_type": "code",
   "execution_count": null,
   "id": "9e498513",
   "metadata": {},
   "outputs": [],
   "source": []
  },
  {
   "cell_type": "code",
   "execution_count": null,
   "id": "8073bc19",
   "metadata": {},
   "outputs": [],
   "source": []
  },
  {
   "cell_type": "code",
   "execution_count": null,
   "id": "5e1344d0",
   "metadata": {},
   "outputs": [],
   "source": []
  },
  {
   "cell_type": "code",
   "execution_count": 13,
   "id": "3a5aa58b",
   "metadata": {},
   "outputs": [
    {
     "name": "stdout",
     "output_type": "stream",
     "text": [
      "http://api.openweathermap.org/data/2.5/weather?units=Imperial&APPID=4732e983ec6c6507f412fe3e690cf7c9\n"
     ]
    }
   ],
   "source": [
    "# Starting URL for Weather Map API Call.\n",
    "url = \"http://api.openweathermap.org/data/2.5/weather?units=Imperial&APPID=\" + weather_api_key\n",
    "print(url)"
   ]
  },
  {
   "cell_type": "code",
   "execution_count": 14,
   "id": "65a268b7",
   "metadata": {},
   "outputs": [
    {
     "name": "stdout",
     "output_type": "stream",
     "text": [
      "http://api.openweathermap.org/data/2.5/weather?units=Imperial&APPID=4732e983ec6c6507f412fe3e690cf7c9&q=Boston\n"
     ]
    }
   ],
   "source": [
    "# Create an endpoint URL for a city.\n",
    "city_url = url + \"&q=\" + \"Boston\"\n",
    "print(city_url)"
   ]
  },
  {
   "cell_type": "code",
   "execution_count": 15,
   "id": "ee38f15b",
   "metadata": {},
   "outputs": [
    {
     "data": {
      "text/plain": [
       "<Response [200]>"
      ]
     },
     "execution_count": 15,
     "metadata": {},
     "output_type": "execute_result"
    }
   ],
   "source": [
    "# Make a 'Get' request for the city weather.\n",
    "city_weather = requests.get(city_url)\n",
    "city_weather"
   ]
  },
  {
   "cell_type": "code",
   "execution_count": 16,
   "id": "0173193c",
   "metadata": {},
   "outputs": [
    {
     "data": {
      "text/plain": [
       "200"
      ]
     },
     "execution_count": 16,
     "metadata": {},
     "output_type": "execute_result"
    }
   ],
   "source": [
    "city_weather.status_code"
   ]
  },
  {
   "cell_type": "code",
   "execution_count": 17,
   "id": "d13c46e3",
   "metadata": {},
   "outputs": [
    {
     "data": {
      "text/plain": [
       "<Response [404]>"
      ]
     },
     "execution_count": 17,
     "metadata": {},
     "output_type": "execute_result"
    }
   ],
   "source": [
    "# example with misspelling\n",
    "# Create an endpoint URL for a city.\n",
    "city_url = url + \"&q=\" + \"Bston\"\n",
    "city_weather = requests.get(city_url)\n",
    "city_weather\n"
   ]
  },
  {
   "cell_type": "code",
   "execution_count": 18,
   "id": "5e832b47",
   "metadata": {},
   "outputs": [],
   "source": [
    "# Get Data from a Response"
   ]
  },
  {
   "cell_type": "code",
   "execution_count": 19,
   "id": "f81659b0",
   "metadata": {},
   "outputs": [
    {
     "data": {
      "text/plain": [
       "<Response [200]>"
      ]
     },
     "execution_count": 19,
     "metadata": {},
     "output_type": "execute_result"
    }
   ],
   "source": [
    "# Create an endpoint URL for a city.\n",
    "city_url = url + \"&q=\" + \"Boston\"\n",
    "city_weather = requests.get(city_url)\n",
    "city_weather"
   ]
  },
  {
   "cell_type": "code",
   "execution_count": 20,
   "id": "6fd38950",
   "metadata": {},
   "outputs": [],
   "source": [
    "# format options: text, json, xml, html\n"
   ]
  },
  {
   "cell_type": "code",
   "execution_count": 21,
   "id": "16905883",
   "metadata": {},
   "outputs": [
    {
     "data": {
      "text/plain": [
       "'{\"coord\":{\"lon\":-71.0598,\"lat\":42.3584},\"weather\":[{\"id\":801,\"main\":\"Clouds\",\"description\":\"few clouds\",\"icon\":\"02d\"}],\"base\":\"stations\",\"main\":{\"temp\":68.54,\"feels_like\":67.15,\"temp_min\":65.17,\"temp_max\":72.28,\"pressure\":1019,\"humidity\":44},\"visibility\":10000,\"wind\":{\"speed\":10.36,\"deg\":280,\"gust\":19.57},\"clouds\":{\"all\":20},\"dt\":1663350018,\"sys\":{\"type\":2,\"id\":2013408,\"country\":\"US\",\"sunrise\":1663323915,\"sunset\":1663368789},\"timezone\":-14400,\"id\":4930956,\"name\":\"Boston\",\"cod\":200}'"
      ]
     },
     "execution_count": 21,
     "metadata": {},
     "output_type": "execute_result"
    }
   ],
   "source": [
    "# Get the text of the 'Get' request.\n",
    "city_weather.text"
   ]
  },
  {
   "cell_type": "code",
   "execution_count": 22,
   "id": "4fd9116b",
   "metadata": {},
   "outputs": [
    {
     "data": {
      "text/plain": [
       "{'coord': {'lon': -71.0598, 'lat': 42.3584},\n",
       " 'weather': [{'id': 801,\n",
       "   'main': 'Clouds',\n",
       "   'description': 'few clouds',\n",
       "   'icon': '02d'}],\n",
       " 'base': 'stations',\n",
       " 'main': {'temp': 68.54,\n",
       "  'feels_like': 67.15,\n",
       "  'temp_min': 65.17,\n",
       "  'temp_max': 72.28,\n",
       "  'pressure': 1019,\n",
       "  'humidity': 44},\n",
       " 'visibility': 10000,\n",
       " 'wind': {'speed': 10.36, 'deg': 280, 'gust': 19.57},\n",
       " 'clouds': {'all': 20},\n",
       " 'dt': 1663350018,\n",
       " 'sys': {'type': 2,\n",
       "  'id': 2013408,\n",
       "  'country': 'US',\n",
       "  'sunrise': 1663323915,\n",
       "  'sunset': 1663368789},\n",
       " 'timezone': -14400,\n",
       " 'id': 4930956,\n",
       " 'name': 'Boston',\n",
       " 'cod': 200}"
      ]
     },
     "execution_count": 22,
     "metadata": {},
     "output_type": "execute_result"
    }
   ],
   "source": [
    "# Get the JSON text of the 'Get' request.\n",
    "city_weather.json()"
   ]
  },
  {
   "cell_type": "code",
   "execution_count": 23,
   "id": "5147c20a",
   "metadata": {},
   "outputs": [],
   "source": [
    "# Handle Request Errors"
   ]
  },
  {
   "cell_type": "code",
   "execution_count": 24,
   "id": "41b137ca",
   "metadata": {},
   "outputs": [],
   "source": [
    "# write a conditional that evaluates if the status code is equal to 200"
   ]
  },
  {
   "cell_type": "code",
   "execution_count": 25,
   "id": "10fc9c03",
   "metadata": {},
   "outputs": [
    {
     "name": "stdout",
     "output_type": "stream",
     "text": [
      "City Weather found.\n"
     ]
    }
   ],
   "source": [
    "# conditional with prints\n",
    "# Create an endpoint URL for a city.\n",
    "city_url = url + \"&q=\" + \"Boston\"\n",
    "city_weather = requests.get(city_url)\n",
    "if city_weather.status_code == 200:\n",
    "    print(f\"City Weather found.\")\n",
    "else:\n",
    "    print(f\"City weather not found.\")"
   ]
  },
  {
   "cell_type": "code",
   "execution_count": 26,
   "id": "2bac2ff5",
   "metadata": {},
   "outputs": [],
   "source": [
    "# use status.code"
   ]
  },
  {
   "cell_type": "code",
   "execution_count": 27,
   "id": "5e004aee",
   "metadata": {},
   "outputs": [
    {
     "name": "stdout",
     "output_type": "stream",
     "text": [
      "City weather not found.\n"
     ]
    }
   ],
   "source": [
    "# Create an endpoint URL for a city.\n",
    "city_url = url + \"&q=\" + \"Bston\"\n",
    "city_weather = requests.get(city_url)\n",
    "if city_weather.status_code == 200:\n",
    "    print(f\"City Weather found.\")\n",
    "else:\n",
    "    print(f\"City weather not found.\")"
   ]
  },
  {
   "cell_type": "code",
   "execution_count": 28,
   "id": "c7de0bf6",
   "metadata": {},
   "outputs": [
    {
     "name": "stdout",
     "output_type": "stream",
     "text": [
      "http://api.openweathermap.org/data/2.5/weather?units=Imperial&APPID=4732e983ec6c6507f412fe3e690cf7c9&q=Bston\n"
     ]
    }
   ],
   "source": [
    "# url leads to 404 page\n",
    "print(city_url)"
   ]
  },
  {
   "cell_type": "code",
   "execution_count": 29,
   "id": "33f138cd",
   "metadata": {},
   "outputs": [],
   "source": [
    "# 6.2.5"
   ]
  },
  {
   "cell_type": "code",
   "execution_count": 30,
   "id": "d038123a",
   "metadata": {},
   "outputs": [],
   "source": [
    "# how to get the weather data from Boston"
   ]
  },
  {
   "cell_type": "code",
   "execution_count": 31,
   "id": "a37a569e",
   "metadata": {},
   "outputs": [
    {
     "data": {
      "text/plain": [
       "{'coord': {'lon': -71.0598, 'lat': 42.3584},\n",
       " 'weather': [{'id': 801,\n",
       "   'main': 'Clouds',\n",
       "   'description': 'few clouds',\n",
       "   'icon': '02d'}],\n",
       " 'base': 'stations',\n",
       " 'main': {'temp': 68.54,\n",
       "  'feels_like': 67.15,\n",
       "  'temp_min': 65.17,\n",
       "  'temp_max': 72.28,\n",
       "  'pressure': 1019,\n",
       "  'humidity': 44},\n",
       " 'visibility': 10000,\n",
       " 'wind': {'speed': 10.36, 'deg': 280, 'gust': 19.57},\n",
       " 'clouds': {'all': 20},\n",
       " 'dt': 1663350018,\n",
       " 'sys': {'type': 2,\n",
       "  'id': 2013408,\n",
       "  'country': 'US',\n",
       "  'sunrise': 1663323915,\n",
       "  'sunset': 1663368789},\n",
       " 'timezone': -14400,\n",
       " 'id': 4930956,\n",
       " 'name': 'Boston',\n",
       " 'cod': 200}"
      ]
     },
     "execution_count": 31,
     "metadata": {},
     "output_type": "execute_result"
    }
   ],
   "source": [
    "# Create an endpoint URL for a city.\n",
    "city_url = url + \"&q=\" + \"Boston\"\n",
    "city_weather = requests.get(city_url)\n",
    "city_weather.json()\n"
   ]
  },
  {
   "cell_type": "code",
   "execution_count": 32,
   "id": "1d4b5730",
   "metadata": {},
   "outputs": [],
   "source": [
    "# get country code for talble"
   ]
  },
  {
   "cell_type": "code",
   "execution_count": 33,
   "id": "800a6139",
   "metadata": {},
   "outputs": [],
   "source": [
    "# Get the JSON data.\n",
    "boston_data = city_weather.json()"
   ]
  },
  {
   "cell_type": "code",
   "execution_count": 34,
   "id": "c628835d",
   "metadata": {},
   "outputs": [],
   "source": [
    "# use sys to get the corresponding value"
   ]
  },
  {
   "cell_type": "code",
   "execution_count": 35,
   "id": "e0657240",
   "metadata": {},
   "outputs": [
    {
     "data": {
      "text/plain": [
       "{'type': 2,\n",
       " 'id': 2013408,\n",
       " 'country': 'US',\n",
       " 'sunrise': 1663323915,\n",
       " 'sunset': 1663368789}"
      ]
     },
     "execution_count": 35,
     "metadata": {},
     "output_type": "execute_result"
    }
   ],
   "source": [
    "boston_data['sys']"
   ]
  },
  {
   "cell_type": "code",
   "execution_count": 36,
   "id": "e3c256ba",
   "metadata": {},
   "outputs": [
    {
     "data": {
      "text/plain": [
       "'US'"
      ]
     },
     "execution_count": 36,
     "metadata": {},
     "output_type": "execute_result"
    }
   ],
   "source": [
    "boston_data['sys']['country']"
   ]
  },
  {
   "cell_type": "code",
   "execution_count": 37,
   "id": "b5f84767",
   "metadata": {},
   "outputs": [
    {
     "data": {
      "text/plain": [
       "1663350018"
      ]
     },
     "execution_count": 37,
     "metadata": {},
     "output_type": "execute_result"
    }
   ],
   "source": [
    "boston_data['dt']"
   ]
  },
  {
   "cell_type": "code",
   "execution_count": 38,
   "id": "a56948f6",
   "metadata": {},
   "outputs": [
    {
     "data": {
      "text/plain": [
       "42.3584"
      ]
     },
     "execution_count": 38,
     "metadata": {},
     "output_type": "execute_result"
    }
   ],
   "source": [
    "boston_data['coord']['lat']"
   ]
  },
  {
   "cell_type": "code",
   "execution_count": 39,
   "id": "034d0f6d",
   "metadata": {},
   "outputs": [
    {
     "name": "stdout",
     "output_type": "stream",
     "text": [
      "42.3584 -71.0598 72.28 44 20 10.36\n"
     ]
    }
   ],
   "source": [
    "lat = boston_data[\"coord\"][\"lat\"]\n",
    "lng = boston_data[\"coord\"][\"lon\"]\n",
    "max_temp = boston_data[\"main\"][\"temp_max\"]\n",
    "humidity = boston_data[\"main\"][\"humidity\"]\n",
    "clouds = boston_data[\"clouds\"][\"all\"]\n",
    "wind = boston_data[\"wind\"][\"speed\"]\n",
    "print(lat, lng, max_temp, humidity, clouds, wind)"
   ]
  },
  {
   "cell_type": "code",
   "execution_count": 40,
   "id": "acbb1a6b",
   "metadata": {},
   "outputs": [],
   "source": [
    "# Convert the Date Timestamp"
   ]
  },
  {
   "cell_type": "code",
   "execution_count": 41,
   "id": "a260059a",
   "metadata": {},
   "outputs": [
    {
     "data": {
      "text/plain": [
       "datetime.datetime(2022, 9, 16, 17, 40, 18)"
      ]
     },
     "execution_count": 41,
     "metadata": {},
     "output_type": "execute_result"
    }
   ],
   "source": [
    "# Import the datetime module from the datetime library.\n",
    "from datetime import datetime\n",
    "# Get the date from the JSON file.\n",
    "date = boston_data[\"dt\"]\n",
    "# Convert the UTC date to a date format with year, month, day, hours, minutes, and seconds.\n",
    "datetime.utcfromtimestamp(date)"
   ]
  },
  {
   "cell_type": "code",
   "execution_count": 42,
   "id": "8738966b",
   "metadata": {},
   "outputs": [
    {
     "data": {
      "text/plain": [
       "'2022-09-16 17:40:18'"
      ]
     },
     "execution_count": 42,
     "metadata": {},
     "output_type": "execute_result"
    }
   ],
   "source": [
    "datetime.utcfromtimestamp(date).strftime('%Y-%m-%d %H:%M:%S')"
   ]
  },
  {
   "cell_type": "code",
   "execution_count": 43,
   "id": "4a6c52bb",
   "metadata": {},
   "outputs": [],
   "source": [
    "#6.2.6\n",
    "\n",
    "\n",
    "# Get the City Weather Data"
   ]
  },
  {
   "cell_type": "code",
   "execution_count": 44,
   "id": "07547c55",
   "metadata": {},
   "outputs": [],
   "source": [
    "# 1. Import Dependencies, and Initialize an Empty List and Counters"
   ]
  },
  {
   "cell_type": "code",
   "execution_count": 45,
   "id": "32cabe17",
   "metadata": {},
   "outputs": [],
   "source": [
    "# Import the time library and the datetime module from the datetime library \n",
    "import time\n",
    "from datetime import datetime\n"
   ]
  },
  {
   "cell_type": "code",
   "execution_count": null,
   "id": "a8fca07b",
   "metadata": {
    "scrolled": true
   },
   "outputs": [
    {
     "name": "stdout",
     "output_type": "stream",
     "text": [
      "Beginning Data Retrieval     \n",
      "-----------------------------\n",
      "Processing Record 1 of Set 1 | dien bien\n",
      "City not found. Skipping...\n",
      "Processing Record 2 of Set 1 | kihei\n",
      "Processing Record 3 of Set 1 | taolanaro\n",
      "City not found. Skipping...\n",
      "Processing Record 4 of Set 1 | punta arenas\n",
      "Processing Record 5 of Set 1 | tilichiki\n",
      "Processing Record 6 of Set 1 | lons-le-saunier\n",
      "Processing Record 7 of Set 1 | ushuaia\n",
      "Processing Record 8 of Set 1 | arraial do cabo\n",
      "Processing Record 9 of Set 1 | puerto ayora\n",
      "Processing Record 10 of Set 1 | nizhneyansk\n",
      "City not found. Skipping...\n",
      "Processing Record 11 of Set 1 | tuy hoa\n",
      "Processing Record 12 of Set 1 | nanortalik\n",
      "Processing Record 13 of Set 1 | tuktoyaktuk\n",
      "Processing Record 14 of Set 1 | rikitea\n",
      "Processing Record 15 of Set 1 | neryungri\n",
      "Processing Record 16 of Set 1 | butaritari\n",
      "Processing Record 17 of Set 1 | coquimbo\n",
      "Processing Record 18 of Set 1 | hilo\n",
      "Processing Record 19 of Set 1 | makakilo city\n",
      "Processing Record 20 of Set 1 | rudnogorsk\n",
      "Processing Record 21 of Set 1 | kanniyakumari\n",
      "Processing Record 22 of Set 1 | mar del plata\n",
      "Processing Record 23 of Set 1 | jamestown\n",
      "Processing Record 24 of Set 1 | puri\n",
      "Processing Record 25 of Set 1 | nitra\n",
      "Processing Record 26 of Set 1 | port alfred\n",
      "Processing Record 27 of Set 1 | new norfolk\n",
      "Processing Record 28 of Set 1 | avarua\n",
      "Processing Record 29 of Set 1 | carnarvon\n",
      "Processing Record 30 of Set 1 | atuona\n",
      "Processing Record 31 of Set 1 | hamilton\n",
      "Processing Record 32 of Set 1 | krylovskaya\n",
      "Processing Record 33 of Set 1 | mys shmidta\n",
      "City not found. Skipping...\n",
      "Processing Record 34 of Set 1 | balkhash\n",
      "Processing Record 35 of Set 1 | geraldton\n",
      "Processing Record 36 of Set 1 | tsihombe\n",
      "City not found. Skipping...\n",
      "Processing Record 37 of Set 1 | saint-philippe\n",
      "Processing Record 38 of Set 1 | vaini\n",
      "Processing Record 39 of Set 1 | castro\n",
      "Processing Record 40 of Set 1 | sentyabrskiy\n",
      "City not found. Skipping...\n",
      "Processing Record 41 of Set 1 | kodiak\n",
      "Processing Record 42 of Set 1 | ponta do sol\n",
      "Processing Record 43 of Set 1 | rio grande\n",
      "Processing Record 44 of Set 1 | menongue\n",
      "Processing Record 45 of Set 1 | san luis\n",
      "Processing Record 46 of Set 1 | yellowknife\n",
      "Processing Record 47 of Set 1 | mamallapuram\n",
      "Processing Record 48 of Set 1 | boguchany\n",
      "Processing Record 49 of Set 1 | aksu\n",
      "Processing Record 50 of Set 1 | rawalpindi\n"
     ]
    }
   ],
   "source": [
    "# Create an empty list to hold the weather data.\n",
    "city_data = []\n",
    "# Print the beginning of the logging.\n",
    "print(\"Beginning Data Retrieval     \")\n",
    "print(\"-----------------------------\")\n",
    "\n",
    "# Create counters.\n",
    "record_count = 1\n",
    "set_count = 1\n",
    "\n",
    "\n",
    "# Loop through all the cities in the list.\n",
    "for i, city in enumerate(cities):\n",
    "\n",
    "    # Group cities in sets of 50 for logging purposes.\n",
    "    if (i % 50 == 0 and i >= 50):\n",
    "        set_count += 1\n",
    "        record_count = 1\n",
    "        time.sleep(60)\n",
    "\n",
    "    # Create endpoint URL with each city.\n",
    "    city_url = url + \"&q=\" + city.replace(\" \",\"+\")\n",
    "\n",
    "    # Log the URL, record, and set numbers and the city.\n",
    "    print(f\"Processing Record {record_count} of Set {set_count} | {city}\")\n",
    "    # Add 1 to the record count.\n",
    "    record_count += 1\n",
    "    \n",
    "\n",
    "# Run an API request for each of the cities.\n",
    "    try:\n",
    "        # Parse the JSON and retrieve data.\n",
    "        city_weather = requests.get(city_url).json()\n",
    "        # Parse out the needed data.\n",
    "        city_lat = city_weather[\"coord\"][\"lat\"]\n",
    "        city_lng = city_weather[\"coord\"][\"lon\"]\n",
    "        city_max_temp = city_weather[\"main\"][\"temp_max\"]\n",
    "        city_humidity = city_weather[\"main\"][\"humidity\"]\n",
    "        city_clouds = city_weather[\"clouds\"][\"all\"]\n",
    "        city_wind = city_weather[\"wind\"][\"speed\"]\n",
    "        city_country = city_weather[\"sys\"][\"country\"]\n",
    "        # Convert the date to ISO standard.\n",
    "        city_date = datetime.utcfromtimestamp(city_weather[\"dt\"]).strftime('%Y-%m-%d %H:%M:%S')\n",
    "        # Append the city information into city_data list.\n",
    "        city_data.append({\"City\": city.title(),\n",
    "                          \"Lat\": city_lat,\n",
    "                          \"Lng\": city_lng,\n",
    "                          \"Max Temp\": city_max_temp,\n",
    "                          \"Humidity\": city_humidity,\n",
    "                          \"Cloudiness\": city_clouds,\n",
    "                          \"Wind Speed\": city_wind,\n",
    "                          \"Country\": city_country,\n",
    "                          \"Date\": city_date})\n",
    "\n",
    "# If an error is experienced, skip the city.\n",
    "    except:\n",
    "        print(\"City not found. Skipping...\")\n",
    "        pass\n",
    "\n",
    "# Indicate that Data Loading is complete.\n",
    "print(\"-----------------------------\")\n",
    "print(\"Data Retrieval Complete      \")\n",
    "print(\"-----------------------------\")\n",
    "    \n",
    "    \n",
    "\n",
    "\n",
    "    \n"
   ]
  },
  {
   "cell_type": "code",
   "execution_count": null,
   "id": "c9fbde71",
   "metadata": {},
   "outputs": [],
   "source": []
  },
  {
   "cell_type": "code",
   "execution_count": null,
   "id": "7f434420",
   "metadata": {},
   "outputs": [],
   "source": [
    "print(len(city_data))"
   ]
  },
  {
   "cell_type": "code",
   "execution_count": null,
   "id": "bae24658",
   "metadata": {},
   "outputs": [],
   "source": [
    "# 6.2.7 ----  Create a DataFrame of City Weather Data"
   ]
  },
  {
   "cell_type": "code",
   "execution_count": null,
   "id": "e5f9c4ab",
   "metadata": {},
   "outputs": [],
   "source": [
    "import pandas as pd"
   ]
  },
  {
   "cell_type": "code",
   "execution_count": null,
   "id": "85b90601",
   "metadata": {},
   "outputs": [],
   "source": [
    "# Convert the array of dictionaries to a Pandas DataFrame.\n",
    "city_data_df = pd.DataFrame(city_data)\n",
    "city_data_df.head(10)\n"
   ]
  },
  {
   "cell_type": "code",
   "execution_count": null,
   "id": "55e2ef25",
   "metadata": {},
   "outputs": [],
   "source": [
    "# reorder cols as: city, country, date, lat, lng, max temp, humidity, cloudiness, and wind speed"
   ]
  },
  {
   "cell_type": "code",
   "execution_count": null,
   "id": "4f7467c8",
   "metadata": {},
   "outputs": [],
   "source": [
    "# df = df[['Name', 'Gender', 'Age', 'Education', 'City']]\n",
    "# print(df)"
   ]
  },
  {
   "cell_type": "code",
   "execution_count": null,
   "id": "100a1861",
   "metadata": {},
   "outputs": [],
   "source": [
    "# city_data_df[[\"City\", \"Country\", \"Date\", \"Lat\", \"Lng\", \"Max Temp\", \"Humidity\", \"Cloudiness\", \"Wind Speed\"]]\n",
    "#df = df[[]]"
   ]
  },
  {
   "cell_type": "code",
   "execution_count": null,
   "id": "087d318c",
   "metadata": {},
   "outputs": [],
   "source": [
    "# tried this\n",
    "\n",
    "#new_column_order = [\"column2\", \"column9\", \"column10\", \"column3\", \"column4\", \"column5\", \"column6\",\n",
    "#                    \"column7\", \"column8\"]\n",
    "df = pd.DataFrame(columns = new_column_order)"
   ]
  },
  {
   "cell_type": "code",
   "execution_count": null,
   "id": "0cb750b1",
   "metadata": {
    "scrolled": true
   },
   "outputs": [],
   "source": [
    "new_colum_order = [\"City\", \"Country\", \"Date\", \"Lat\", \"Lng\", \"Max Temp\", \"Humidity\", \"Cloudiness\", \"Wind Speed\"]"
   ]
  },
  {
   "cell_type": "code",
   "execution_count": null,
   "id": "b2f63ad9",
   "metadata": {},
   "outputs": [],
   "source": [
    "df"
   ]
  },
  {
   "cell_type": "code",
   "execution_count": null,
   "id": "9da30452",
   "metadata": {},
   "outputs": [],
   "source": [
    "print(df)"
   ]
  },
  {
   "cell_type": "code",
   "execution_count": null,
   "id": "710dd497",
   "metadata": {},
   "outputs": [],
   "source": []
  },
  {
   "cell_type": "code",
   "execution_count": null,
   "id": "54c49464",
   "metadata": {},
   "outputs": [],
   "source": []
  },
  {
   "cell_type": "code",
   "execution_count": null,
   "id": "c4db77da",
   "metadata": {},
   "outputs": [],
   "source": []
  },
  {
   "cell_type": "code",
   "execution_count": null,
   "id": "8edc668d",
   "metadata": {},
   "outputs": [],
   "source": []
  },
  {
   "cell_type": "code",
   "execution_count": null,
   "id": "25b035dd",
   "metadata": {},
   "outputs": [],
   "source": []
  }
 ],
 "metadata": {
  "kernelspec": {
   "display_name": "Python 3 (ipykernel)",
   "language": "python",
   "name": "python3"
  },
  "language_info": {
   "codemirror_mode": {
    "name": "ipython",
    "version": 3
   },
   "file_extension": ".py",
   "mimetype": "text/x-python",
   "name": "python",
   "nbconvert_exporter": "python",
   "pygments_lexer": "ipython3",
   "version": "3.7.13"
  }
 },
 "nbformat": 4,
 "nbformat_minor": 5
}
