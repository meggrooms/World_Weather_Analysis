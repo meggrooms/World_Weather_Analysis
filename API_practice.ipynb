{
 "cells": [
  {
   "cell_type": "code",
   "execution_count": 1,
   "id": "b8c17f72",
   "metadata": {},
   "outputs": [],
   "source": [
    "# Create a practice set of random latitude and longitude combinations.\n",
    "lats = [25.12903645, 25.92017388, 26.62509167, -59.98969384, 37.30571269]\n",
    "lngs = [-67.59741259, 11.09532135, 74.84233102, -76.89176677, -61.13376282]\n",
    "lat_lngs = zip(lats, lngs)\n",
    "\n",
    "# Add the latitudes and longitudes to a list.\n",
    "coordinates = list(lat_lngs)"
   ]
  },
  {
   "cell_type": "code",
   "execution_count": 2,
   "id": "55b49637",
   "metadata": {},
   "outputs": [
    {
     "name": "stdout",
     "output_type": "stream",
     "text": [
      "25.12903645 -67.59741259\n",
      "25.92017388 11.09532135\n",
      "26.62509167 74.84233102\n",
      "-59.98969384 -76.89176677\n",
      "37.30571269 -61.13376282\n"
     ]
    }
   ],
   "source": [
    "# Use the print() function to display the latitude and longitude combinations.\n",
    "for coordinate in coordinates:\n",
    "    print(coordinate[0], coordinate[1])\n"
   ]
  },
  {
   "cell_type": "markdown",
   "id": "aa5f2d18",
   "metadata": {},
   "source": [
    " "
   ]
  },
  {
   "cell_type": "code",
   "execution_count": 3,
   "id": "d7365895",
   "metadata": {},
   "outputs": [],
   "source": [
    "# 6.1.5"
   ]
  },
  {
   "cell_type": "code",
   "execution_count": 7,
   "id": "b131e3a4",
   "metadata": {},
   "outputs": [],
   "source": [
    "# Use the citipy module to determine city based on latitude and longitude.\n",
    "from citipy import citipy"
   ]
  },
  {
   "cell_type": "code",
   "execution_count": null,
   "id": "8e65e8ad",
   "metadata": {},
   "outputs": [],
   "source": []
  },
  {
   "cell_type": "code",
   "execution_count": 8,
   "id": "78c8f01b",
   "metadata": {},
   "outputs": [
    {
     "name": "stdout",
     "output_type": "stream",
     "text": [
      "cockburn town tc\n",
      "gat ly\n",
      "parvatsar in\n",
      "punta arenas cl\n",
      "saint george bm\n"
     ]
    }
   ],
   "source": [
    " # Use the print() function to display the latitude and longitude combinations.\n",
    "for coordinate in coordinates:\n",
    "    print(citipy.nearest_city(coordinate[0], coordinate[1]).city_name,\n",
    "          citipy.nearest_city(coordinate[0], coordinate[1]).country_code)\n",
    "\n"
   ]
  },
  {
   "cell_type": "code",
   "execution_count": 9,
   "id": "e0f7f2c1",
   "metadata": {},
   "outputs": [],
   "source": [
    "# 6.1.5"
   ]
  },
  {
   "cell_type": "code",
   "execution_count": 12,
   "id": "f0fae39a",
   "metadata": {},
   "outputs": [],
   "source": [
    "from citipy import citipy"
   ]
  },
  {
   "cell_type": "code",
   "execution_count": 34,
   "id": "409c2fd8",
   "metadata": {},
   "outputs": [],
   "source": [
    "lat = np.random.uniform(-90, 90, size = 1500)\n",
    "lngs = np.random.uniform(-180, 180, size = 1500)\n",
    "lat_lngs = zip(lat, lngs)\n",
    "\n",
    "coordinates = list(lat_lngs)"
   ]
  },
  {
   "cell_type": "code",
   "execution_count": 35,
   "id": "3daba0f1",
   "metadata": {},
   "outputs": [
    {
     "data": {
      "text/plain": [
       "629"
      ]
     },
     "execution_count": 35,
     "metadata": {},
     "output_type": "execute_result"
    }
   ],
   "source": [
    "# Create a list for holding the cities.\n",
    "cities = []\n",
    "# Identify the nearest city for each latitude and longitude combination.\n",
    "for coordinate in coordinates:\n",
    "    city = citipy.nearest_city(coordinate[0], coordinate[1]).city_name\n",
    "\n",
    "    # If the city is unique, then we will add it to the cities list.\n",
    "    if city not in cities:\n",
    "        cities.append(city)\n",
    "    \n",
    "\n",
    "# Print the city count to confirm sufficient count.\n",
    "len(cities)\n"
   ]
  },
  {
   "cell_type": "code",
   "execution_count": 39,
   "id": "1f974bfa",
   "metadata": {},
   "outputs": [
    {
     "name": "stdout",
     "output_type": "stream",
     "text": [
      "['yellowknife', 'sentyabrskiy', 'narsaq', 'chacabuco', 'bacuit', 'katsuura', 'lavrentiya', 'callaway', 'barawe', 'tarudant', 'ruidoso', 'mataura', 'goderich', 'nakamura', 'lagoa', 'antanifotsy', 'salalah', 'albany', 'south venice', 'sambava', 'chuy', 'ushuaia', 'martelange', 'santa helena', 'vaini', 'mys shmidta', 'icanti', 'miri', 'wattegama', 'cururupu', 'port hardy', 'rovaniemi', 'georgetown', 'fortuna', 'port elizabeth', 'saskylakh', 'taolanaro', 'mar del plata', 'barentsburg', 'cherskiy', 'meulaboh', 'saint-philippe', 'tura', 'uvarovka', 'atuona', 'saint-leu', 'tomigusuku', 'santa cruz de tenerife', 'nelson bay', 'pangnirtung', 'rolim de moura', 'husavik', 'mairana', 'upernavik', 'faya', 'fairbanks', 'taoudenni', 'vallenar', 'kemijarvi', 'bluff', 'pamanukan', 'bethel', 'eldorado', 'kalmunai', 'chokurdakh', 'petauke', 'torbay', 'hilo', 'barrow', 'hobart', 'amderma', 'bambous virieux', 'morondava', 'kegayli', 'airai', 'faanui', 'east london', 'domoni', 'kamenka', 'witu', 'kodiak', 'honiara', 'kapaa', 'ankang', 'rikitea', 'srisailam', 'hermanus', 'lorengau', 'samana', 'tiksi', 'severo-kurilsk', 'berlevag', 'hithadhoo', 'punta arenas', 'port alfred', 'turbat', 'khromtau', 'abha', 'nanortalik', 'tasiilaq', 'longyearbyen', 'ust-uda', 'forssa', 'agadez', 'voh', 'mount gambier', 'busselton', 'clyde river', 'chicama', 'jamestown', 'jalu', 'belushya guba', 'tsihombe', 'suhut', 'banjar', 'bredasdorp', 'aswan', 'cape town', 'luderitz', 'talnakh', 'viedma', 'saldanha', 'autazes', 'samusu', 'beinamar', 'yumen', 'vanavara', 'kavaratti', 'puerto ayora', 'burgos', 'bokspits', 'moerai', 'grand river south east', 'cayenne', 'broome', 'manohar thana', 'bolshaya murta', 'san ciro de acosta', 'oranjemund', 'bengkulu', 'laguna', 'mahebourg', 'camana', 'half moon bay', 'itaobim', 'pa sang', 'kotido', 'shadegan', 'hofn', 'norman wells', 'new norfolk', 'arraial do cabo', 'namtsy', 'pevek', 'illoqqortoormiut', 'porto belo', 'rungata', 'ucluelet', 'satitoa', 'ribeira grande', 'temple', 'kitimat', 'tautira', 'petropavlovsk-kamchatskiy', 'attawapiskat', 'maceio', 'ust-tsilma', 'debre tabor', 'lermontovka', 'isla mujeres', 'dikson', 'zhanatas', 'buraydah', 'flinders', 'port blair', 'butaritari', 'coos bay', 'nikolskoye', 'kirakira', 'nome', 'karpogory', 'kiama', 'manzanillo', 'lewisporte', 'klaksvik', 'pueblo nuevo', 'olinda', 'shingu', 'masvingo', 'sisimiut', 'nabire', 'anadyr', 'avarua', 'xuddur', 'yuzhou', 'high level', 'olafsvik', 'lompoc', 'sinnamary', 'katsiveli', 'cockburn town', 'provideniya', 'rundu', 'saleaula', 'santa rosa', 'japura', 'baruun-urt', 'dunedin', 'thompson', 'leningradskiy', 'natal', 'constantine', 'luebo', 'antofagasta', 'isangel', 'marcona', 'pryazha', 'praia da vitoria', 'kalinovskaya', 'qaanaaq', 'necochea', 'zhuanghe', 'kandi', 'ancud', 'victoria', 'tinskoy', 'nizwa', 'lebu', 'constitucion', 'jumla', 'lata', 'atbasar', 'lerwick', 'saint george', 'namibe', 'rock sound', 'halalo', 'pierre', 'wagar', 'mbanza-ngungu', 'cidreira', 'pasni', 'los llanos de aridane', 'sola', 'tuktoyaktuk', 'along', 'hickory', 'manuel doblado', 'cabinda', 'sabha', 'plettenberg bay', 'tshikapa', 'aykhal', 'gweta', 'aksu', 'khatanga', 'srednekolymsk', 'digby', 'okha', 'lasa', 'chumikan', 'tucumcari', 'madimba', 'vardo', 'bilibino', 'dingle', 'ilulissat', 'quartucciu', 'hue', 'chifeng', 'jomalig', 'aden', 'calamar', 'schweinfurt', 'herat', 'koutsouras', 'turukhansk', 'pacific grove', 'mount isa', 'andenes', 'quatre cocos', 'cabo san lucas', 'kalmar', 'monrovia', 'milkovo', 'temaraia', 'carnarvon', 'tezu', 'san francisco', 'matamoros', 'te anau', 'sao joao da barra', 'port-cartier', 'coihaique', 'sibu', 'kapit', 'balad', 'nguiu', 'sao filipe', 'utiroa', 'kenai', 'zaltan', 'rodopolis', 'progreso', 'sosnovo-ozerskoye', 'guerrero negro', 'biharamulo', 'hirara', 'hohhot', 'huarmey', 'colombo', 'rincon', 'indiana', 'kropotkin', 'iqaluit', 'grottaglie', 'erdenet', 'aragarcas', 'scarborough', 'auki', 'meadow lake', 'kralendijk', 'yerbogachen', 'nizhneyansk', 'grand gaube', 'senador jose porfirio', 'brownwood', 'byron bay', 'margate', 'cilegon', 'egvekinot', 'ostroda', 'rorvik', 'lisiy nos', 'atambua', 'oktyabrskoye', 'castro', 'ahipara', 'maykain', 'andreiasu de jos', 'doha', 'lapua', 'tual', 'angola', 'stefesti', 'samalaeulu', 'nevel', 'kandrian', 'misratah', 'carutapera', 'kahului', 'diffa', 'haibowan', 'arroyo', 'alice springs', 'port-de-bouc', 'sheboygan', 'rabo de peixe', 'inhambane', 'kavieng', 'hasaki', 'alekseyevsk', 'acapulco', 'aguimes', 'richards bay', 'yatou', 'tarakan', 'filingue', 'emure', 'mayo', 'sabang', 'otjiwarongo', 'narasannapeta', 'denpasar', 'mazatlan', 'areosa', 'russell', 'palmares', 'clarence town', 'luau', 'kaitangata', 'risor', 'valpacos', 'bubaque', 'atasu', 'umm durman', 'umri', 'el giral', 'tuatapere', 'peniche', 'bratsk', 'haines junction', 'kruisfontein', 'wailuku', 'linxia', 'zyryanka', 'inuvik', 'suez', 'boueni', 'marawi', 'pingliang', 'praia', 'toora-khem', 'turayf', 'krasnozerskoye', 'cacoal', 'geraldton', 'aklavik', 'zhetybay', 'naerbo', 'awbari', 'wukari', 'pombia', 'kifri', 'saint-louis', 'bousse', 'hamilton', 'murray bridge', 'batagay-alyta', 'khonuu', 'halden', 'kijang', 'ahuimanu', 'talikota', 'bongandanga', 'shihezi', 'rio gallegos', 'togur', 'farafangana', 'vanimo', 'ponta delgada', 'kurchum', 'hunza', 'pisco', 'whitecourt', 'comodoro rivadavia', 'remontnoye', 'waddan', 'coahuayana', 'souillac', 'vostok', 'liberal', 'torquay', 'el campo', 'newton', 'ergani', 'ugoofaaru', 'lao cai', 'whitehorse', 'kangaatsiaq', 'predivinsk', 'prince rupert', 'lipin bor', 'yuancheng', 'khash', 'komsomolskiy', 'kamenskoye', 'talaya', 'bundaberg', 'beringovskiy', 'upington', 'stephenville', 'baft', 'nirgua', 'kuloy', 'skibbereen', 'hualmay', 'antalaha', 'kazalinsk', 'bud', 'kumluca', 'ust-karsk', 'waingapu', 'tukrah', 'ostersund', 'ardakan', 'turki', 'clovis', 'pinsk', 'sarkand', 'oistins', 'kuryk', 'ruatoria', 'wanaka', 'fengxian', 'ponta do sol', 'mecca', 'zeya', 'karratha', 'baykit', 'umea', 'yebaishou', 'naze', 'kushmurun', 'bonavista', 'malanje', 'labuhan', 'mocuba', 'venado tuerto', 'kollam', 'fort-shevchenko', 'ati', 'montes altos', 'bandarbeyla', 'henties bay', 'kizema', 'kailua', 'shache', 'bongouanou', 'kysyl-syr', 'bambanglipuro', 'itarema', 'micheweni', 'zaysan', 'rumoi', 'youkounkoun', 'ambon', 'grindavik', 'yasnyy', 'tabuk', 'carballo', 'bozdar', 'sibolga', 'kaka', 'codrington', 'ituni', 'barbar', 'nara', 'vao', 'shilovo', 'tumpat', 'oussouye', 'celestun', 'mangrol', 'artyom', 'mvomero', 'san patricio', 'manbij', 'avera', 'palabuhanratu', 'buala', 'thunder bay', 'cangucu', 'mrirt', 'puerto el triunfo', 'tigil', 'port moresby', 'biak', 'umzimvubu', 'durban', 'deputatskiy', 'puerto penasco', 'washington', 'jarjis', 'esperance', 'matara', 'arlit', 'orodara', 'anar darreh', 'port macquarie', 'savannah bight', 'oum hadjer', 'kampene', 'nizhniy kuranakh', 'lagos de moreno', 'pangody', 'xixiang', 'santa eulalia del rio', 'trapani', 'tupik', 'high rock', 'kayerkan', 'zhanakorgan', 'oranjestad', 'rio grande', 'la ronge', 'iquitos', 'jambi', 'walvis bay', 'parfenyevo', 'samarai', 'atar', 'kununurra', 'razvilnoye', 'rehoboth', 'qeshm', 'burns lake', 'eyl', 'sahuaripa', 'shubarkuduk', 'kattivakkam', 'thilogne', 'palmer', 'qianan', 'purranque', 'seydi', 'manga', 'phonhong', 'saint-michel-des-saints', 'zhigansk', 'sangar', 'poum', 'esmeraldas', 'urubamba', 'ust-kulom', 'slonim', 'lora del rio', 'adre', 'sale', 'ternate', 'phan rang', 'nishihara', 'ixtapa', 'vaitupu', 'arauca', 'corrente', 'burica', 'erenhot', 'luganville', 'mentok', 'sarangani', 'soure', 'yulara', 'massaguet', 'songea', 'saint-francois', 'devils lake', 'tortoli', 'makakilo city']\n"
     ]
    }
   ],
   "source": [
    "print(cities)"
   ]
  },
  {
   "cell_type": "code",
   "execution_count": null,
   "id": "bd24553d",
   "metadata": {},
   "outputs": [],
   "source": []
  },
  {
   "cell_type": "code",
   "execution_count": null,
   "id": "4ad8d718",
   "metadata": {},
   "outputs": [],
   "source": []
  },
  {
   "cell_type": "code",
   "execution_count": null,
   "id": "8773a04d",
   "metadata": {},
   "outputs": [],
   "source": []
  },
  {
   "cell_type": "code",
   "execution_count": null,
   "id": "5e832b47",
   "metadata": {},
   "outputs": [],
   "source": []
  },
  {
   "cell_type": "code",
   "execution_count": null,
   "id": "f81659b0",
   "metadata": {},
   "outputs": [],
   "source": []
  },
  {
   "cell_type": "code",
   "execution_count": null,
   "id": "6fd38950",
   "metadata": {},
   "outputs": [],
   "source": []
  },
  {
   "cell_type": "code",
   "execution_count": null,
   "id": "16905883",
   "metadata": {},
   "outputs": [],
   "source": []
  },
  {
   "cell_type": "code",
   "execution_count": null,
   "id": "4fd9116b",
   "metadata": {},
   "outputs": [],
   "source": []
  },
  {
   "cell_type": "code",
   "execution_count": null,
   "id": "5147c20a",
   "metadata": {},
   "outputs": [],
   "source": []
  },
  {
   "cell_type": "code",
   "execution_count": null,
   "id": "41b137ca",
   "metadata": {},
   "outputs": [],
   "source": []
  }
 ],
 "metadata": {
  "kernelspec": {
   "display_name": "Python 3 (ipykernel)",
   "language": "python",
   "name": "python3"
  },
  "language_info": {
   "codemirror_mode": {
    "name": "ipython",
    "version": 3
   },
   "file_extension": ".py",
   "mimetype": "text/x-python",
   "name": "python",
   "nbconvert_exporter": "python",
   "pygments_lexer": "ipython3",
   "version": "3.9.12"
  }
 },
 "nbformat": 4,
 "nbformat_minor": 5
}
